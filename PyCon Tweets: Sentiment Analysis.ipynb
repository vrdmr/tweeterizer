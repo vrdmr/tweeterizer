{
 "cells": [
  {
   "cell_type": "markdown",
   "metadata": {},
   "source": [
    "# PyCon 2022: Sentiment Analysis of Tweets"
   ]
  },
  {
   "cell_type": "markdown",
   "metadata": {},
   "source": [
    "First, we will retrieve data on tweets about PyCon from the Cosmos database."
   ]
  },
  {
   "cell_type": "code",
   "execution_count": 1,
   "metadata": {},
   "outputs": [],
   "source": [
    "from azure.cosmos import exceptions, CosmosClient, PartitionKey\n",
    "import json\n",
    "from bokeh.plotting import figure, show\n",
    "from bokeh.io import output_notebook\n",
    "import pandas as pd\n",
    "import numpy as np\n",
    "import re\n",
    "\n",
    "# Initialize and create the Cosmos client\n",
    "endpoint = \"https://tweets-pycon.documents.azure.com:443/\"\n",
    "key = '5Qq1xszozzcaPBr0B1mlDfp3dhzgWJJXjl13R29ZgjyI2DEVFanP3Zi3v7Vj3Ef65aE4CL8tfNXyzZLjZW5HWA=='\n",
    "\n",
    "client = CosmosClient(endpoint, key)\n",
    "\n",
    "# Retrieve database and container\n",
    "database = client.get_database_client('tweetsdatabase')\n",
    "container = database.get_container_client('tweetscollection')"
   ]
  },
  {
   "cell_type": "markdown",
   "metadata": {},
   "source": [
    "### Overview\n",
    "A summary of the distribution of tweets."
   ]
  },
  {
   "cell_type": "code",
   "execution_count": 2,
   "metadata": {},
   "outputs": [
    {
     "name": "stdout",
     "output_type": "stream",
     "text": [
      "So far, there have been 437 tweets made about PyCon 2022!\n",
      "\n",
      "The 437 tweets have been classified as follows:\n",
      "\t\n",
      " positive:  103 \t\n",
      " negative:  32 \t\n",
      " negative:  295 \t\n",
      " neutral:  295 \t\n",
      " mixed:  7\n"
     ]
    }
   ],
   "source": [
    "tweets_query = \"SELECT tweets.sentiment FROM tweetscollectionm tweets\"\n",
    "\n",
    "tweets = list(container.query_items(\n",
    "    query=tweets_query,\n",
    "    enable_cross_partition_query=True\n",
    "))\n",
    "\n",
    "print(\"So far, there have been {0} tweets made about PyCon 2022!\\n\".format(len(tweets)))\n",
    "\n",
    "print(\"The {0} tweets have been classified as follows:\".format(len(tweets)))\n",
    "\n",
    "df = pd.DataFrame(tweets, columns=[\"sentiment\"])\n",
    "\n",
    "# Filter dataframes\n",
    "df_positive = df[df.sentiment == \"positive\"]\n",
    "pos_count = df_positive.shape[0]\n",
    "df_negative = df[df.sentiment == \"negative\"]\n",
    "neg_count = df_negative.shape[0]\n",
    "df_neutral = df[df.sentiment == \"neutral\"]\n",
    "neutral_count = df_neutral.shape[0]\n",
    "df_mixed = df[df.sentiment == \"mixed\"]\n",
    "mixed_count = df_mixed.shape[0]\n",
    "\n",
    "print(\"\\t\\n positive: \", pos_count, \"\\t\\n negative: \", neg_count,\"\\t\\n negative: \", neutral_count,\"\\t\\n neutral: \", neutral_count,\"\\t\\n mixed: \", mixed_count)"
   ]
  },
  {
   "cell_type": "markdown",
   "metadata": {},
   "source": [
    "### Positive Tweets"
   ]
  },
  {
   "cell_type": "code",
   "execution_count": 3,
   "metadata": {},
   "outputs": [
    {
     "name": "stdout",
     "output_type": "stream",
     "text": [
      "\n",
      "Following are the 27 tweets that have been categorized as extremely positive (confidence score is > 0.98):\n",
      "                                     tweet_info.tweet\n",
      "0   RT @Yhg1s: I'm at the Salt Palace convention c...\n",
      "1   RT @adem_onar: Best #MachineLearning #Algorith...\n",
      "2   Best #MachineLearning #Algorithms for classifi...\n",
      "3   RT @adem_onar: Best #MachineLearning #Algorith...\n",
      "4   RT @adem_onar: Best #MachineLearning #Algorith...\n",
      "5   RT @adem_onar: Best #MachineLearning #Algorith...\n",
      "6   RT @falconcode16: Best open-source app framewo...\n",
      "7   RT @adem_onar: Best #MachineLearning #Algorith...\n",
      "8   RT @fikinft: Some great @apocalypticapes backg...\n",
      "9   @pystar @reuvenmlerner @pycon If you write abo...\n",
      "10  RT @TorPan13: @reuvenmlerner @pycon Any good b...\n",
      "11  Two more days until I head out to @pycon! Exci...\n",
      "12  @reuvenmlerner @pystar @pycon I second the com...\n",
      "13  Aún estamos necesitando personas para el volun...\n",
      "14  RT @_AGOTO: Alchemy stars - Azure\\n\\nSpecial t...\n",
      "15  RT @_AGOTO: Alchemy stars - Azure\\n\\nSpecial t...\n",
      "16  RT @_AGOTO: Alchemy stars - Azure\\n\\nSpecial t...\n",
      "17  RT @_AGOTO: Alchemy stars - Azure\\n\\nSpecial t...\n",
      "18  RT @marlene_zw: This is a really excellent ran...\n",
      "19  RT @_AGOTO: Alchemy stars - Azure\\n\\nSpecial t...\n",
      "20  RT @treyhunner: I'm in Salt Lake City for #PyC...\n",
      "21  RT @_AGOTO: Alchemy stars - Azure\\n\\nSpecial t...\n",
      "22  RT @_AGOTO: Alchemy stars - Azure\\n\\nSpecial t...\n",
      "23  RT @treyhunner: I'm in Salt Lake City for #PyC...\n",
      "24  RT @_AGOTO: Alchemy stars - Azure\\n\\nSpecial t...\n",
      "25  RT @treyhunner: I'm in Salt Lake City for #PyC...\n",
      "26  RT @_AGOTO: Alchemy stars - Azure\\n\\nSpecial t...\n"
     ]
    }
   ],
   "source": [
    "# Extreme positive tweets, confidence score for positive > 0.98\n",
    "tweets_pos_query = \"SELECT {\\\"tweet\\\":tweets.text} AS tweet_info FROM tweetscollection tweets WHERE tweets.confidence_scores.positive > 0.98\"\n",
    "tweets_positive = list(container.query_items(\n",
    "    query=tweets_pos_query,\n",
    "    enable_cross_partition_query=True\n",
    "))\n",
    "\n",
    "tweets_pos_display = pd.json_normalize(tweets_positive, max_level=1)\n",
    "\n",
    "print(\"\\nFollowing are the {0} tweets that have been categorized as extremely positive (confidence score is > 0.98):\".format(len(tweets_positive)))\n",
    "print(tweets_pos_display)"
   ]
  },
  {
   "cell_type": "markdown",
   "metadata": {},
   "source": [
    "### Negative Tweets"
   ]
  },
  {
   "cell_type": "code",
   "execution_count": 4,
   "metadata": {},
   "outputs": [
    {
     "name": "stdout",
     "output_type": "stream",
     "text": [
      "\n",
      "Following are the 3 tweets that have been categorized as extremely negative (confidence score is > 0.98):\n",
      "                                    tweet_info.tweet\n",
      "0  RT @energydata123: Day 87, 88:\\nCame across an...\n",
      "1  RT @energydata123: Day 87, 88:\\nCame across an...\n",
      "2  @MrEinFan Im still mostly using sorcery, need ...\n"
     ]
    }
   ],
   "source": [
    "# Extreme negative tweets, confidence score for negative > 0.98\n",
    "tweets_neg_query = \"SELECT {\\\"tweet\\\":tweets.text} AS tweet_info FROM tweetscollection tweets WHERE tweets.confidence_scores.negative > 0.98\"\n",
    "tweets_negative = list(container.query_items(\n",
    "    query=tweets_neg_query,\n",
    "    enable_cross_partition_query=True\n",
    "))\n",
    "\n",
    "tweets_neg_display = pd.json_normalize(tweets_negative, max_level=1)\n",
    "\n",
    "print(\"\\nFollowing are the {0} tweets that have been categorized as extremely negative (confidence score is > 0.98):\".format(len(tweets_negative)))\n",
    "print(tweets_neg_display)"
   ]
  },
  {
   "cell_type": "markdown",
   "metadata": {},
   "source": [
    "### Neutral Tweets"
   ]
  },
  {
   "cell_type": "code",
   "execution_count": 5,
   "metadata": {},
   "outputs": [
    {
     "name": "stdout",
     "output_type": "stream",
     "text": [
      "\n",
      "Following are the 12 tweets that have been categorized as extremely neutral (confidence score is > 0.98):\n",
      "                                     tweet_info.tweet\n",
      "0   Target is looking for a Sr. Data Scientist - O...\n",
      "1   Az.Cdn v2.0.0-preview https://t.co/I6kvJXzPO3 ...\n",
      "2   Target is looking for a Sr. Data Scientist - O...\n",
      "3   Azure Cosmos DB Cassandra API: A true differen...\n",
      "4   Lumen is looking for a SR MGR DATA SCIENCE\\nht...\n",
      "5   History of #machinelearning &amp; #DataScience...\n",
      "6   Microsoft Azure Data Scientist Associate - DP-...\n",
      "7   Global Shutter Camera Module\\n#Robotics #AI #I...\n",
      "8   Global Shutter Camera Module\\n#Robotics #AI #I...\n",
      "9   #youtube Belajar Linear Programming Python Goo...\n",
      "10  Azure Cost Management and Billing updates – Ap...\n",
      "11  Azure Cost Management and Billing updates – Ap...\n"
     ]
    }
   ],
   "source": [
    "# Extreme neutral tweets, confidence score for neutral > 0.98\n",
    "tweets_neutral_query = \"SELECT {\\\"tweet\\\":tweets.text} AS tweet_info FROM tweetscollection tweets WHERE tweets.confidence_scores.neutral > 0.98\"\n",
    "tweets_neutral = list(container.query_items(\n",
    "    query=tweets_neutral_query,\n",
    "    enable_cross_partition_query=True\n",
    "))\n",
    "\n",
    "tweets_neutral_display = pd.json_normalize(tweets_neutral, max_level=1)\n",
    "\n",
    "print(\"\\nFollowing are the {0} tweets that have been categorized as extremely neutral (confidence score is > 0.98):\".format(len(tweets_neutral)))\n",
    "print(tweets_neutral_display)"
   ]
  },
  {
   "cell_type": "markdown",
   "metadata": {},
   "source": [
    "### Mixed Tweets"
   ]
  },
  {
   "cell_type": "code",
   "execution_count": 6,
   "metadata": {},
   "outputs": [
    {
     "name": "stdout",
     "output_type": "stream",
     "text": [
      "Following are 7 tweets that do not have a high confidence score in any one sentiment, and are therefore cateforized as 'mixed'.\n",
      "                                                text\n",
      "0  @SamHLevey R is great for what it is, a better...\n",
      "1  Here's the weather forecast for Salt Lake City...\n",
      "2  RT @rootsecdev: Found this cool little script ...\n",
      "3  @AkitaOnRails Muuuito legal isso. Ganhou uma e...\n",
      "4  RT @Tofag_E: Wrote an API call program, I've s...\n",
      "5  @hmmmmmbbb @pycon It's like a foreign language...\n",
      "6  @s_gruppetta_ct @pystar @pycon Oh, right — I s...\n"
     ]
    }
   ],
   "source": [
    "tweets_query = \"SELECT tweets.text FROM tweetscollectionm tweets WHERE tweets.sentiment = 'mixed'\"\n",
    "\n",
    "tweets_mixed = list(container.query_items(\n",
    "    query=tweets_query,\n",
    "    enable_cross_partition_query=True\n",
    "))\n",
    "\n",
    "df_mixed_tweets = pd.DataFrame(tweets_mixed, columns=[\"text\"])\n",
    "\n",
    "print(\"Following are {0} tweets that do not have a high confidence score in any one sentiment, and are therefore cateforized as 'mixed'.\".format(len(tweets_mixed)))\n",
    "\n",
    "print(df_mixed_tweets)"
   ]
  },
  {
   "cell_type": "markdown",
   "metadata": {},
   "source": [
    "### Overall Analysis"
   ]
  },
  {
   "cell_type": "code",
   "execution_count": 7,
   "metadata": {},
   "outputs": [
    {
     "name": "stdout",
     "output_type": "stream",
     "text": [
      "From the sentiment analysis, we have detected that so far, the overall sentiment of tweets at PyCon 2022 is neutral .\n"
     ]
    }
   ],
   "source": [
    "total_tweets = [pos_count, neg_count, neutral_count, mixed_count]\n",
    "\n",
    "max_value = max(total_tweets)\n",
    "\n",
    "overall_sentiment = None\n",
    "\n",
    "if (total_tweets.index(max_value) == 0):\n",
    "    overall_sentiment = 'positive'\n",
    "elif (total_tweets.index(max_value) == 1):\n",
    "    overall_sentiment = 'negative'\n",
    "elif (total_tweets.index(max_value) == 2):\n",
    "    overall_sentiment = 'neutral'\n",
    "elif (total_tweets.index(max_value) == 3):\n",
    "    overall_sentiment = 'mixed'\n",
    "\n",
    "print(\"From the sentiment analysis, we have detected that so far, the overall sentiment of tweets at PyCon 2022 is\", overall_sentiment, \".\")\n"
   ]
  }
 ],
 "metadata": {
  "interpreter": {
   "hash": "58527e05f20b406b37b4f1f03209d014175186cfe5fe7d8901dbd7e2ff4d5dee"
  },
  "kernelspec": {
   "display_name": "Python 3.9.7 ('base')",
   "language": "python",
   "name": "python3"
  },
  "language_info": {
   "codemirror_mode": {
    "name": "ipython",
    "version": 3
   },
   "file_extension": ".py",
   "mimetype": "text/x-python",
   "name": "python",
   "nbconvert_exporter": "python",
   "pygments_lexer": "ipython3",
   "version": "3.9.7"
  },
  "orig_nbformat": 4
 },
 "nbformat": 4,
 "nbformat_minor": 2
}
