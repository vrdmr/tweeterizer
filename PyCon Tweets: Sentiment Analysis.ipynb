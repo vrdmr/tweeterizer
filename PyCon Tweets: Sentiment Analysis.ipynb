{
 "cells": [
  {
   "cell_type": "markdown",
   "metadata": {},
   "source": [
    "# PyCon 2022: Sentiment Analysis of Tweets"
   ]
  },
  {
   "cell_type": "markdown",
   "metadata": {},
   "source": [
    "First, we will retrieve data on tweets about PyCon from the Cosmos database."
   ]
  },
  {
   "cell_type": "code",
   "execution_count": 5,
   "metadata": {},
   "outputs": [],
   "source": [
    "from azure.cosmos import CosmosClient\n",
    "import pandas as pd\n",
    "import numpy as np\n",
    "import matplotlib.pyplot as plt\n",
    "\n",
    "# this sets up the Matplotlib interactive windows:\n",
    "%matplotlib widget\n",
    "plt.style.use(\"_mpl-gallery-nogrid\")\n",
    "\n",
    "# Initialize and create the Cosmos client\n",
    "endpoint = \"https://tweets-pycon.documents.azure.com:443/\"\n",
    "key = 'KEYHERE'\n",
    "\n",
    "client = CosmosClient(endpoint, key)\n",
    "\n",
    "# Retrieve database and container\n",
    "database = client.get_database_client('tweetsdatabase')\n",
    "container = database.get_container_client('tweetscollection')"
   ]
  },
  {
   "cell_type": "markdown",
   "metadata": {},
   "source": [
    "### Overview\n",
    "A summary of the distribution of tweets."
   ]
  },
  {
   "cell_type": "code",
   "execution_count": 6,
   "metadata": {},
   "outputs": [
    {
     "name": "stdout",
     "output_type": "stream",
     "text": [
      "So far, there have been 624 tweets made about PyCon, Azure and Python!\n",
      "\n",
      "The 624 tweets have been classified as follows:\n"
     ]
    },
    {
     "data": {
      "application/vnd.jupyter.widget-view+json": {
       "model_id": "c937b89d1e244ec7bd360f0ed0104b0c",
       "version_major": 2,
       "version_minor": 0
      },
      "image/png": "[encoded data removed]",
      "text/html": [
       "\n",
       "            <div style=\"display: inline-block;\">\n",
       "                <div class=\"jupyter-widgets widget-label\" style=\"text-align: center;\">\n",
       "                    Figure\n",
       "                </div>\n",
       "                <img src='data:image/png;base64,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' width=200.0/>\n",
       "            </div>\n",
       "        "
      ],
      "text/plain": [
       "Canvas(toolbar=Toolbar(toolitems=[('Home', 'Reset original view', 'home', 'home'), ('Back', 'Back to previous …"
      ]
     },
     "metadata": {},
     "output_type": "display_data"
    }
   ],
   "source": [
    "tweets_query = \"\"\"SELECT tweets.sentiment \n",
    "                  FROM tweetscollectionm tweets\"\"\"\n",
    "\n",
    "tweets = list(\n",
    "    container.query_items(query=tweets_query, enable_cross_partition_query=True)\n",
    ")\n",
    "\n",
    "print(\n",
    "    \"So far, there have been {0} tweets made about PyCon, Azure and Python!\\n\".format(\n",
    "        len(tweets)\n",
    "    )\n",
    ")\n",
    "print(\"The {0} tweets have been classified as follows:\".format(len(tweets)))\n",
    "\n",
    "df = pd.DataFrame(tweets, columns=[\"sentiment\"])\n",
    "df = df.groupby(\"sentiment\")[\"sentiment\"].agg([\"count\"])  #  Aggregate data\n",
    "\n",
    "# plot\n",
    "colors = plt.get_cmap(\"Blues\")(np.linspace(0.2, 0.7, len(list(df.index))))\n",
    "fig, ax = plt.subplots()\n",
    "ax.pie(\n",
    "    df[\"count\"],\n",
    "    colors=colors,\n",
    "    radius=3,\n",
    "    center=(4, 4),\n",
    "    wedgeprops={\"linewidth\": 1, \"edgecolor\": \"white\"},\n",
    "    labels=list(df.index),\n",
    "    frame=True,\n",
    "    startangle=90,\n",
    ")\n",
    "\n",
    "plt.show()"
   ]
  },
  {
   "cell_type": "markdown",
   "metadata": {},
   "source": [
    "### Positive Tweets"
   ]
  },
  {
   "cell_type": "code",
   "execution_count": 7,
   "metadata": {},
   "outputs": [
    {
     "name": "stdout",
     "output_type": "stream",
     "text": [
      "Some very high positive confidence (confidence score is > 0.98) score tweets\n",
      "                                    tweet_info.tweet\n",
      "0  RT @Yhg1s: I'm at the Salt Palace convention c...\n",
      "1  RT @adem_onar: Best #MachineLearning #Algorith...\n",
      "2  Best #MachineLearning #Algorithms for classifi...\n",
      "3  RT @adem_onar: Best #MachineLearning #Algorith...\n",
      "4  RT @adem_onar: Best #MachineLearning #Algorith...\n",
      "5  RT @adem_onar: Best #MachineLearning #Algorith...\n",
      "6  RT @falconcode16: Best open-source app framewo...\n",
      "7  RT @adem_onar: Best #MachineLearning #Algorith...\n",
      "8  RT @fikinft: Some great @apocalypticapes backg...\n",
      "9  @pystar @reuvenmlerner @pycon If you write abo...\n"
     ]
    }
   ],
   "source": [
    "# Extreme positive tweets, confidence score for positive > 0.98\n",
    "tweets_pos_query = \"\"\"SELECT {\"tweet\":tweets.text} \n",
    "                      AS tweet_info \n",
    "                      FROM tweetscollection tweets \n",
    "                      WHERE tweets.confidence_scores.positive > 0.98 \n",
    "                      OFFSET 0 LIMIT 10\"\"\"\n",
    "\n",
    "tweets_positive = list(\n",
    "    container.query_items(query=tweets_pos_query, enable_cross_partition_query=True)\n",
    ")\n",
    "\n",
    "tweets_pos_display = pd.json_normalize(tweets_positive, max_level=1)\n",
    "\n",
    "print(\"Some very high positive confidence (confidence score is > 0.98) score tweets\")\n",
    "print(tweets_pos_display)"
   ]
  },
  {
   "cell_type": "markdown",
   "metadata": {},
   "source": [
    "### Negative Tweets"
   ]
  },
  {
   "cell_type": "code",
   "execution_count": 8,
   "metadata": {},
   "outputs": [
    {
     "name": "stdout",
     "output_type": "stream",
     "text": [
      "Some very high negative confidence (confidence score is > 0.98) score tweets\n",
      "                                    tweet_info.tweet\n",
      "0  RT @energydata123: Day 87, 88:\\nCame across an...\n",
      "1  RT @energydata123: Day 87, 88:\\nCame across an...\n",
      "2  @MrEinFan Im still mostly using sorcery, need ...\n",
      "3  @CircuitPython @pycon Looks like I made it int...\n",
      "4  @muheuenga @juanluisback I was never involved ...\n"
     ]
    }
   ],
   "source": [
    "# Extreme negative tweets, confidence score for negative > 0.98\n",
    "tweets_neg_query = \"\"\"SELECT {\"tweet\":tweets.text} \n",
    "                      AS tweet_info \n",
    "                      FROM tweetscollection tweets \n",
    "                      WHERE tweets.confidence_scores.negative > 0.98\n",
    "                      OFFSET 0 LIMIT 10\"\"\"\n",
    "\n",
    "tweets_negative = list(\n",
    "    container.query_items(query=tweets_neg_query, enable_cross_partition_query=True)\n",
    ")\n",
    "\n",
    "tweets_neg_display = pd.json_normalize(tweets_negative, max_level=1)\n",
    "\n",
    "print(\"Some very high negative confidence (confidence score is > 0.98) score tweets\")\n",
    "print(tweets_neg_display)\n"
   ]
  },
  {
   "cell_type": "markdown",
   "metadata": {},
   "source": [
    "### Neutral Tweets"
   ]
  },
  {
   "cell_type": "code",
   "execution_count": 9,
   "metadata": {},
   "outputs": [
    {
     "name": "stdout",
     "output_type": "stream",
     "text": [
      "Some very high neutral confidence (confidence score is > 0.98) score tweets\n",
      "                                    tweet_info.tweet\n",
      "0  Target is looking for a Sr. Data Scientist - O...\n",
      "1  Az.Cdn v2.0.0-preview https://t.co/I6kvJXzPO3 ...\n",
      "2  Target is looking for a Sr. Data Scientist - O...\n",
      "3  Azure Cosmos DB Cassandra API: A true differen...\n",
      "4  Lumen is looking for a SR MGR DATA SCIENCE\\nht...\n",
      "5  History of #machinelearning &amp; #DataScience...\n",
      "6  Microsoft Azure Data Scientist Associate - DP-...\n",
      "7  Global Shutter Camera Module\\n#Robotics #AI #I...\n",
      "8  Global Shutter Camera Module\\n#Robotics #AI #I...\n",
      "9  #youtube Belajar Linear Programming Python Goo...\n"
     ]
    }
   ],
   "source": [
    "# Extreme neutral tweets, confidence score for neutral > 0.98\n",
    "tweets_neutral_query = \"\"\"SELECT {\"tweet\":tweets.text} \n",
    "                          AS tweet_info \n",
    "                          FROM tweetscollection tweets \n",
    "                          WHERE tweets.confidence_scores.neutral > 0.98\n",
    "                          OFFSET 0 LIMIT 10\"\"\"\n",
    "\n",
    "tweets_neutral = list(\n",
    "    container.query_items(query=tweets_neutral_query, enable_cross_partition_query=True)\n",
    ")\n",
    "\n",
    "tweets_neutral_display = pd.json_normalize(tweets_neutral, max_level=1)\n",
    "\n",
    "print(\"Some very high neutral confidence (confidence score is > 0.98) score tweets\")\n",
    "print(tweets_neutral_display)\n"
   ]
  },
  {
   "cell_type": "markdown",
   "metadata": {},
   "source": [
    "### Mixed Tweets"
   ]
  },
  {
   "cell_type": "code",
   "execution_count": 10,
   "metadata": {},
   "outputs": [
    {
     "name": "stdout",
     "output_type": "stream",
     "text": [
      "Following are 9 tweets that do not have a high confidence score in any one sentiment, and are therefore cateforized as 'mixed'.\n",
      "                                                text\n",
      "0  @SamHLevey R is great for what it is, a better...\n",
      "1  Here's the weather forecast for Salt Lake City...\n",
      "2  RT @rootsecdev: Found this cool little script ...\n",
      "3  @AkitaOnRails Muuuito legal isso. Ganhou uma e...\n",
      "4  RT @Tofag_E: Wrote an API call program, I've s...\n",
      "5  @hmmmmmbbb @pycon It's like a foreign language...\n",
      "6  @s_gruppetta_ct @pystar @pycon Oh, right — I s...\n",
      "7  @brandon_rhodes @pycon Enjoy! Just got over CO...\n",
      "8  Stressing about a python exam this weekend.  J...\n"
     ]
    }
   ],
   "source": [
    "tweets_query = (\n",
    "    \"SELECT tweets.text FROM tweetscollectionm tweets WHERE tweets.sentiment = 'mixed' OFFSET 0 LIMIT 10\"\n",
    ")\n",
    "\n",
    "tweets_mixed = list(\n",
    "    container.query_items(query=tweets_query, enable_cross_partition_query=True)\n",
    ")\n",
    "\n",
    "df_mixed_tweets = pd.DataFrame(tweets_mixed, columns=[\"text\"])\n",
    "\n",
    "print(\n",
    "    \"Following are {0} tweets that do not have a high confidence score in any one sentiment, and are therefore cateforized as 'mixed'.\".format(\n",
    "        len(tweets_mixed)\n",
    "    )\n",
    ")\n",
    "\n",
    "print(df_mixed_tweets)\n"
   ]
  },
  {
   "cell_type": "markdown",
   "metadata": {},
   "source": [
    "### Overall Analysis"
   ]
  },
  {
   "cell_type": "code",
   "execution_count": 11,
   "metadata": {},
   "outputs": [
    {
     "ename": "NameError",
     "evalue": "name 'pos_count' is not defined",
     "output_type": "error",
     "traceback": [
      "\u001b[0;31m---------------------------------------------------------------------------\u001b[0m",
      "\u001b[0;31mNameError\u001b[0m                                 Traceback (most recent call last)",
      "\u001b[1;32m/Users/varadmeru/work/microsoft/fetch-twitter-sentiments/PyCon Tweets: Sentiment Analysis.ipynb Cell 15'\u001b[0m in \u001b[0;36m<cell line: 1>\u001b[0;34m()\u001b[0m\n\u001b[0;32m----> <a href='vscode-notebook-cell:/Users/varadmeru/work/microsoft/fetch-twitter-sentiments/PyCon%20Tweets%3A%20Sentiment%20Analysis.ipynb#ch0000014?line=0'>1</a>\u001b[0m total_tweets \u001b[39m=\u001b[39m [pos_count, neg_count, neutral_count, mixed_count]\n\u001b[1;32m      <a href='vscode-notebook-cell:/Users/varadmeru/work/microsoft/fetch-twitter-sentiments/PyCon%20Tweets%3A%20Sentiment%20Analysis.ipynb#ch0000014?line=2'>3</a>\u001b[0m max_value \u001b[39m=\u001b[39m \u001b[39mmax\u001b[39m(total_tweets)\n\u001b[1;32m      <a href='vscode-notebook-cell:/Users/varadmeru/work/microsoft/fetch-twitter-sentiments/PyCon%20Tweets%3A%20Sentiment%20Analysis.ipynb#ch0000014?line=4'>5</a>\u001b[0m overall_sentiment \u001b[39m=\u001b[39m \u001b[39mNone\u001b[39;00m\n",
      "\u001b[0;31mNameError\u001b[0m: name 'pos_count' is not defined"
     ]
    }
   ],
   "source": [
    "total_tweets = [pos_count, neg_count, neutral_count, mixed_count]\n",
    "\n",
    "max_value = max(total_tweets)\n",
    "\n",
    "overall_sentiment = None\n",
    "\n",
    "if total_tweets.index(max_value) == 0:\n",
    "    overall_sentiment = \"positive\"\n",
    "elif total_tweets.index(max_value) == 1:\n",
    "    overall_sentiment = \"negative\"\n",
    "elif total_tweets.index(max_value) == 2:\n",
    "    overall_sentiment = \"neutral\"\n",
    "elif total_tweets.index(max_value) == 3:\n",
    "    overall_sentiment = \"mixed\"\n",
    "\n",
    "print(\n",
    "    \"From the sentiment analysis, we have detected that so far, the overall sentiment of tweets at PyCon 2022 is\",\n",
    "    overall_sentiment,\n",
    "    \".\",\n",
    ")\n"
   ]
  }
 ],
 "metadata": {
  "interpreter": {
   "hash": "58527e05f20b406b37b4f1f03209d014175186cfe5fe7d8901dbd7e2ff4d5dee"
  },
  "kernelspec": {
   "display_name": "Python 3.9.7 ('base')",
   "language": "python",
   "name": "python3"
  },
  "language_info": {
   "codemirror_mode": {
    "name": "ipython",
    "version": 3
   },
   "file_extension": ".py",
   "mimetype": "text/x-python",
   "name": "python",
   "nbconvert_exporter": "python",
   "pygments_lexer": "ipython3",
   "version": "3.9.7"
  },
  "orig_nbformat": 4
 },
 "nbformat": 4,
 "nbformat_minor": 2
}
